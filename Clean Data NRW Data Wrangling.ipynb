{
 "cells": [
  {
   "cell_type": "markdown",
   "metadata": {},
   "source": [
    "# Clean Data NRW Data Wrangling\n",
    "\n",
    "I created this new notebook because the other one was already too full. \n",
    "I'm gonna look deep each one of the nan-values."
   ]
  },
  {
   "cell_type": "code",
   "execution_count": 7,
   "metadata": {},
   "outputs": [],
   "source": [
    "import pandas as pd\n",
    "import numpy as np \n",
    "import matplotlib.pyplot as plt \n",
    "import datetime\n",
    "%matplotlib inline  #sets your environment so you can directly plot charts into your Jupyter Notebook\n",
    "\n",
    "\n",
    "#importing scraped data\n",
    "data_nrw_clean = pd.read_csv(\"cleaned_df_vergabe_nrw_jan2021.csv\")"
   ]
  },
  {
   "cell_type": "code",
   "execution_count": 4,
   "metadata": {},
   "outputs": [],
   "source": [
    "# This does not belong to the analysis, I'm just creating a function to help me lates:\n",
    "\n",
    "def glimpse(df, maxvals=10, maxlen=110):\n",
    "    print('Shape: ', df.shape)\n",
    "    \n",
    "    def pad(y):\n",
    "        max_len = max([len(x) for x in y])\n",
    "        return [x.ljust(max_len) for x in y]\n",
    "    \n",
    "    # Column Name\n",
    "    toprnt = pad(df.columns.tolist())\n",
    "    \n",
    "    # Column Type\n",
    "    toprnt = pad([toprnt[i] + ' ' + str(df.iloc[:,i].dtype) for i in range(df.shape[1])])\n",
    "    \n",
    "    # Num NAs\n",
    "    num_nas = [df.iloc[:,i].isnull().sum() for i in range(df.shape[1])]\n",
    "    num_nas_ratio = [int(round(x*100/df.shape[0])) for x in num_nas]\n",
    "    num_nas_str = [str(x) + ' (' + str(y) + '%)' for x,y in zip(num_nas, num_nas_ratio)]\n",
    "    max_len = max([len(x) for x in num_nas_str])\n",
    "    num_nas_str = [x.rjust(max_len) for x in num_nas_str]\n",
    "    toprnt = [x + ' ' + y + ' NAs' for x,y in zip(toprnt, num_nas_str)]\n",
    "    \n",
    "    # Separator\n",
    "    toprnt = [x + ' : ' for x in toprnt]\n",
    "    \n",
    "    # Values\n",
    "    toprnt = [toprnt[i] + ', '.join([str(y) for y in df.iloc[:min([maxvals,df.shape[0]]), i]]) for i in range(df.shape[1])]\n",
    "    \n",
    "    # Trim to maxlen\n",
    "    toprnt = [x[:min(maxlen, len(x))] for x in toprnt]\n",
    "    \n",
    "    for x in toprnt:\n",
    "        print(x)\n",
    "        \n",
    "\n",
    "####sec function:\n",
    "def print_full(x):\n",
    "    pd.set_option('display.max_rows', len(x))\n",
    "    print(x)\n",
    "    pd.reset_option('display.max_rows')"
   ]
  },
  {
   "cell_type": "code",
   "execution_count": 6,
   "metadata": {},
   "outputs": [
    {
     "name": "stdout",
     "output_type": "stream",
     "text": [
      "Shape:  (36561, 25)\n",
      "Unnamed: 0               int64        0 (0%) NAs : 0, 4, 6, 7, 8, 9, 10, 11, 12, 13\n",
      "Unnamed: 0.1             int64        0 (0%) NAs : 0, 4, 6, 7, 8, 9, 10, 11, 12, 13\n",
      "_id                      object       0 (0%) NAs : CXPNY42D0ZS, CXPNY42DRDN, CXPNY42YT80, CXPNY42YWAX, CXPNY43\n",
      "created_at               object       0 (0%) NAs : 2022-01-04T23:00:18.455Z, 2020-04-20T22:14:01.166Z, 2019-12\n",
      "updated_at               object       0 (0%) NAs : 2022-01-06T23:00:14.633Z, 2020-05-19T00:33:44.632Z, 2020-01\n",
      "result_id                object       0 (0%) NAs : CXPNY42D0ZS, CXPNY42DRDN, CXPNY42YT80, CXPNY42YWAX, CXPNY43\n",
      "result_title             object     531 (1%) NAs : Öffnen/Verschließen von Türen/Toren aller Art im Wege der E\n",
      "result_description       object       0 (0%) NAs : ['Schüsseldienste kamen im Kalenderjahr 2021 zu insgesamt 4\n",
      "result_procedure_type    object    2621 (7%) NAs : Öffentliche Ausschreibung, Öffentliche Ausschreibung, Öffen\n",
      "result_order_type        object    2621 (7%) NAs : UVGO, UVGO, OTHER, nan, UVGO, UVGO, UVGO, UVGO, UVGO, UVGO\n",
      "result_publication_date  object  25888 (71%) NAs : nan, nan, nan, nan, nan, nan, nan, nan, nan, nan\n",
      "result_cpv_codes         object       0 (0%) NAs : ['75131000-3', '75240000-0'], ['75131000-3'], ['55512000-2'\n",
      "result_buyer_name        object       0 (0%) NAs : Polizeipräsidium Dortmund - ZA 13.1 - Zentrale Vergabestell\n",
      "result_buyer_address     object       9 (0%) NAs : Markgrafenstraße 102, Markgrafebstraße 102, Markgrafenstraß\n",
      "result_buyer_town        object       0 (0%) NAs : dortmund, dortmund, dortmund, dortmund, herne, herne, herne\n",
      "result_buyer_postal_code object       6 (0%) NAs : 44139, 44139, 44139, 44139, 44608, 44608, 44608, 44608, 446\n",
      "result_seller_name       object  35101 (96%) NAs : nan, nan, nan, nan, nan, nan, nan, nan, nan, nan\n",
      "result_seller_town       object  35101 (96%) NAs : nan, nan, nan, nan, nan, nan, nan, nan, nan, nan\n",
      "result_seller_country    object  35101 (96%) NAs : nan, nan, nan, nan, nan, nan, nan, nan, nan, nan\n",
      "result_geo_lon           float64      0 (0%) NAs : 7.46023, 7.46023, 7.46023, 7.46023, 8.0583, 8.0583, 8.0583,\n",
      "result_geo_lat           float64      0 (0%) NAs : 51.49958, 51.49958, 51.49958, 51.49958, 48.2167, 48.2167, 4\n",
      "result_value             float64 35125 (96%) NAs : nan, nan, nan, nan, nan, nan, nan, nan, nan, nan\n",
      "result_created_at        object       0 (0%) NAs : 2022-01-04T23:00:18.455Z, 2020-04-20T22:14:01.166Z, 2019-12\n",
      "result_updated_at        object       0 (0%) NAs : 2022-01-06T23:00:14.633Z, 2020-05-19T00:33:44.632Z, 2020-01\n",
      "result_buyer_country     object  33940 (93%) NAs : nan, nan, nan, DE, nan, nan, nan, nan, nan, nan\n"
     ]
    }
   ],
   "source": [
    "glimpse(data_nrw_clean)"
   ]
  },
  {
   "cell_type": "code",
   "execution_count": 40,
   "metadata": {},
   "outputs": [
    {
     "name": "stdout",
     "output_type": "stream",
     "text": [
      "min 2019-12-17T14:29:56.168Z \n",
      " max 2022-01-07T02:11:51.498Z\n"
     ]
    }
   ],
   "source": [
    "print('min', min(data_nrw_clean.created_at), '\\n max', max(data_nrw_clean.created_at))"
   ]
  },
  {
   "cell_type": "markdown",
   "metadata": {},
   "source": [
    "This data already have only 'valuable' vergabe, since it has 0 nan \"result_id\""
   ]
  },
  {
   "cell_type": "code",
   "execution_count": 8,
   "metadata": {
    "scrolled": true
   },
   "outputs": [
    {
     "name": "stderr",
     "output_type": "stream",
     "text": [
      "C:\\Users\\yvfg3118\\Anaconda3\\lib\\site-packages\\pandas\\core\\arrays\\datetimes.py:1088: UserWarning: Converting to PeriodArray/Index representation will drop timezone information.\n",
      "  warnings.warn(\n"
     ]
    }
   ],
   "source": [
    "#creating a month-year column\n",
    "\n",
    "data_nrw_clean['month_year'] = pd.to_datetime(data_nrw_clean['created_at']).dt.to_period('M')"
   ]
  },
  {
   "cell_type": "markdown",
   "metadata": {},
   "source": [
    "## 0. Overall distribution of the tenders\n",
    "\n",
    "Is there more tenders in a specific place?"
   ]
  },
  {
   "cell_type": "code",
   "execution_count": 63,
   "metadata": {
    "scrolled": true
   },
   "outputs": [
    {
     "data": {
      "text/plain": [
       "[<matplotlib.lines.Line2D at 0x2652e972d00>]"
      ]
     },
     "execution_count": 63,
     "metadata": {},
     "output_type": "execute_result"
    },
    {
     "data": {
      "image/png": "[encoded data removed]",
      "text/plain": [
       "<Figure size 432x288 with 1 Axes>"
      ]
     },
     "metadata": {
      "needs_background": "light"
     },
     "output_type": "display_data"
    }
   ],
   "source": [
    "# Distribuicao por tempo:\n",
    "\n",
    "df = data_nrw_clean.groupby('month_year').agg(value =('month_year', 'count')).reset_index()\n",
    "\n",
    "plt.plot_date(df['month_year'], \n",
    "              df['value'], c = 'red')"
   ]
  },
  {
   "cell_type": "markdown",
   "metadata": {},
   "source": [
    "In the beggining of the system, we have a higher value os tenders added, but the amount of tenders go up and down during the period, beeing low at january 2022 partially due to lack of days (we got this data before 15.01.2022)"
   ]
  },
  {
   "cell_type": "markdown",
   "metadata": {},
   "source": [
    "## 1. result_title"
   ]
  },
  {
   "cell_type": "code",
   "execution_count": 39,
   "metadata": {},
   "outputs": [
    {
     "data": {
      "text/plain": [
       "[<matplotlib.lines.Line2D at 0x2652e206820>]"
      ]
     },
     "execution_count": 39,
     "metadata": {},
     "output_type": "execute_result"
    },
    {
     "data": {
      "image/png": "[encoded data removed]",
      "text/plain": [
       "<Figure size 432x288 with 1 Axes>"
      ]
     },
     "metadata": {
      "needs_background": "light"
     },
     "output_type": "display_data"
    }
   ],
   "source": [
    "# Distribuicao por tempo:\n",
    "\n",
    "data_nan_resulttitle = data_nrw_clean[['month_year', 'result_title']]\n",
    "data_nan_resulttitle = data_nan_resulttitle[data_nan_resulttitle['result_title'].isnull()]\n",
    "data_nan_resulttitle = data_nan_resulttitle.fillna(1)\n",
    "data_nan_resulttitle = pd.DataFrame(data_nan_resulttitle.groupby('month_year')['result_title'].count()).reset_index()\n",
    "\n",
    "#data_nan_resulttitle.plot.scatter(x = 'month_year', y = 'result_title')\n",
    "plt.plot_date(data_nan_resulttitle['month_year'], \n",
    "              data_nan_resulttitle['result_title'], c = 'red')"
   ]
  },
  {
   "cell_type": "code",
   "execution_count": 37,
   "metadata": {
    "scrolled": false
   },
   "outputs": [
    {
     "data": {
      "text/html": [
       "<div>\n",
       "<style scoped>\n",
       "    .dataframe tbody tr th:only-of-type {\n",
       "        vertical-align: middle;\n",
       "    }\n",
       "\n",
       "    .dataframe tbody tr th {\n",
       "        vertical-align: top;\n",
       "    }\n",
       "\n",
       "    .dataframe thead th {\n",
       "        text-align: right;\n",
       "    }\n",
       "</style>\n",
       "<table border=\"1\" class=\"dataframe\">\n",
       "  <thead>\n",
       "    <tr style=\"text-align: right;\">\n",
       "      <th></th>\n",
       "      <th>month_year</th>\n",
       "      <th>result_title</th>\n",
       "    </tr>\n",
       "  </thead>\n",
       "  <tbody>\n",
       "    <tr>\n",
       "      <th>0</th>\n",
       "      <td>2019-12</td>\n",
       "      <td>463</td>\n",
       "    </tr>\n",
       "    <tr>\n",
       "      <th>1</th>\n",
       "      <td>2020-01</td>\n",
       "      <td>12</td>\n",
       "    </tr>\n",
       "    <tr>\n",
       "      <th>2</th>\n",
       "      <td>2021-05</td>\n",
       "      <td>18</td>\n",
       "    </tr>\n",
       "    <tr>\n",
       "      <th>3</th>\n",
       "      <td>2021-09</td>\n",
       "      <td>5</td>\n",
       "    </tr>\n",
       "    <tr>\n",
       "      <th>4</th>\n",
       "      <td>2021-10</td>\n",
       "      <td>32</td>\n",
       "    </tr>\n",
       "    <tr>\n",
       "      <th>5</th>\n",
       "      <td>2021-11</td>\n",
       "      <td>1</td>\n",
       "    </tr>\n",
       "  </tbody>\n",
       "</table>\n",
       "</div>"
      ],
      "text/plain": [
       "  month_year  result_title\n",
       "0    2019-12           463\n",
       "1    2020-01            12\n",
       "2    2021-05            18\n",
       "3    2021-09             5\n",
       "4    2021-10            32\n",
       "5    2021-11             1"
      ]
     },
     "execution_count": 37,
     "metadata": {},
     "output_type": "execute_result"
    }
   ],
   "source": [
    "data_nan_resulttitle"
   ]
  },
  {
   "cell_type": "markdown",
   "metadata": {},
   "source": [
    "**CONCLUSION 1**\n",
    "\n",
    "We see that the majority of nan-values in result title occures in december 2019, when the portal register its first tenders. It is possible that these missing values are related to the implementation of data in this new system\n",
    "\n",
    "## 2. result_procedure_type    "
   ]
  },
  {
   "cell_type": "code",
   "execution_count": 41,
   "metadata": {
    "scrolled": true
   },
   "outputs": [
    {
     "data": {
      "text/plain": [
       "[<matplotlib.lines.Line2D at 0x2652e7d68b0>]"
      ]
     },
     "execution_count": 41,
     "metadata": {},
     "output_type": "execute_result"
    },
    {
     "data": {
      "image/png": "[encoded data removed]",
      "text/plain": [
       "<Figure size 432x288 with 1 Axes>"
      ]
     },
     "metadata": {
      "needs_background": "light"
     },
     "output_type": "display_data"
    }
   ],
   "source": [
    "df = data_nrw_clean[['month_year', 'result_procedure_type']]\n",
    "df = df[df['result_procedure_type'].isnull()]\n",
    "df = df.fillna(1)\n",
    "df = pd.DataFrame(df.groupby('month_year')['result_procedure_type'].count()).reset_index()\n",
    "\n",
    "plt.plot_date(df['month_year'], \n",
    "              df['result_procedure_type'], c = 'red')"
   ]
  },
  {
   "cell_type": "code",
   "execution_count": 42,
   "metadata": {},
   "outputs": [
    {
     "data": {
      "text/html": [
       "<div>\n",
       "<style scoped>\n",
       "    .dataframe tbody tr th:only-of-type {\n",
       "        vertical-align: middle;\n",
       "    }\n",
       "\n",
       "    .dataframe tbody tr th {\n",
       "        vertical-align: top;\n",
       "    }\n",
       "\n",
       "    .dataframe thead th {\n",
       "        text-align: right;\n",
       "    }\n",
       "</style>\n",
       "<table border=\"1\" class=\"dataframe\">\n",
       "  <thead>\n",
       "    <tr style=\"text-align: right;\">\n",
       "      <th></th>\n",
       "      <th>month_year</th>\n",
       "      <th>result_procedure_type</th>\n",
       "    </tr>\n",
       "  </thead>\n",
       "  <tbody>\n",
       "    <tr>\n",
       "      <th>0</th>\n",
       "      <td>2019-12</td>\n",
       "      <td>464</td>\n",
       "    </tr>\n",
       "    <tr>\n",
       "      <th>1</th>\n",
       "      <td>2020-01</td>\n",
       "      <td>12</td>\n",
       "    </tr>\n",
       "    <tr>\n",
       "      <th>2</th>\n",
       "      <td>2020-07</td>\n",
       "      <td>2</td>\n",
       "    </tr>\n",
       "    <tr>\n",
       "      <th>3</th>\n",
       "      <td>2020-08</td>\n",
       "      <td>1</td>\n",
       "    </tr>\n",
       "    <tr>\n",
       "      <th>4</th>\n",
       "      <td>2020-09</td>\n",
       "      <td>1</td>\n",
       "    </tr>\n",
       "    <tr>\n",
       "      <th>5</th>\n",
       "      <td>2020-11</td>\n",
       "      <td>1</td>\n",
       "    </tr>\n",
       "    <tr>\n",
       "      <th>6</th>\n",
       "      <td>2021-01</td>\n",
       "      <td>15</td>\n",
       "    </tr>\n",
       "    <tr>\n",
       "      <th>7</th>\n",
       "      <td>2021-02</td>\n",
       "      <td>5</td>\n",
       "    </tr>\n",
       "    <tr>\n",
       "      <th>8</th>\n",
       "      <td>2021-03</td>\n",
       "      <td>4</td>\n",
       "    </tr>\n",
       "    <tr>\n",
       "      <th>9</th>\n",
       "      <td>2021-04</td>\n",
       "      <td>1</td>\n",
       "    </tr>\n",
       "    <tr>\n",
       "      <th>10</th>\n",
       "      <td>2021-05</td>\n",
       "      <td>63</td>\n",
       "    </tr>\n",
       "    <tr>\n",
       "      <th>11</th>\n",
       "      <td>2021-06</td>\n",
       "      <td>96</td>\n",
       "    </tr>\n",
       "    <tr>\n",
       "      <th>12</th>\n",
       "      <td>2021-07</td>\n",
       "      <td>48</td>\n",
       "    </tr>\n",
       "    <tr>\n",
       "      <th>13</th>\n",
       "      <td>2021-09</td>\n",
       "      <td>267</td>\n",
       "    </tr>\n",
       "    <tr>\n",
       "      <th>14</th>\n",
       "      <td>2021-10</td>\n",
       "      <td>505</td>\n",
       "    </tr>\n",
       "    <tr>\n",
       "      <th>15</th>\n",
       "      <td>2021-11</td>\n",
       "      <td>477</td>\n",
       "    </tr>\n",
       "    <tr>\n",
       "      <th>16</th>\n",
       "      <td>2021-12</td>\n",
       "      <td>516</td>\n",
       "    </tr>\n",
       "    <tr>\n",
       "      <th>17</th>\n",
       "      <td>2022-01</td>\n",
       "      <td>143</td>\n",
       "    </tr>\n",
       "  </tbody>\n",
       "</table>\n",
       "</div>"
      ],
      "text/plain": [
       "   month_year  result_procedure_type\n",
       "0     2019-12                    464\n",
       "1     2020-01                     12\n",
       "2     2020-07                      2\n",
       "3     2020-08                      1\n",
       "4     2020-09                      1\n",
       "5     2020-11                      1\n",
       "6     2021-01                     15\n",
       "7     2021-02                      5\n",
       "8     2021-03                      4\n",
       "9     2021-04                      1\n",
       "10    2021-05                     63\n",
       "11    2021-06                     96\n",
       "12    2021-07                     48\n",
       "13    2021-09                    267\n",
       "14    2021-10                    505\n",
       "15    2021-11                    477\n",
       "16    2021-12                    516\n",
       "17    2022-01                    143"
      ]
     },
     "execution_count": 42,
     "metadata": {},
     "output_type": "execute_result"
    }
   ],
   "source": [
    "df"
   ]
  },
  {
   "cell_type": "markdown",
   "metadata": {},
   "source": [
    "**CONCLUSION 2**\n",
    "\n",
    "Again, we see a lot of missing values in december 2019, when the system was created, and the nan-values increasingly grow after may 2021. Is there any reason to believe that these tenders after may 2021 are still opened?\n",
    "\n",
    "## 3. result_order_type\n",
    "\n",
    "Are the result order typer nan-values the same as the result_procedure_type values?"
   ]
  },
  {
   "cell_type": "code",
   "execution_count": 44,
   "metadata": {},
   "outputs": [
    {
     "name": "stdout",
     "output_type": "stream",
     "text": [
      "Shape:  (2621, 3)\n",
      "month_year            period[M]      0 (0%) NAs : 2019-12, 2021-10, 2021-12, 2021-12, 2021-12, 2021-11, 2021-1\n",
      "result_procedure_type object    2621 (100%) NAs : nan, nan, nan, nan, nan, nan, nan, nan, nan, nan\n",
      "result_order_type     object    2621 (100%) NAs : nan, nan, nan, nan, nan, nan, nan, nan, nan, nan\n"
     ]
    }
   ],
   "source": [
    "df = data_nrw_clean[['month_year', 'result_procedure_type', 'result_order_type']]\n",
    "df = df[df['result_order_type'].isnull()]\n",
    "glimpse(df)"
   ]
  },
  {
   "cell_type": "markdown",
   "metadata": {},
   "source": [
    "**CONCLUSION 3** \n",
    "\n",
    "When `result_procedure_type` is nan, the `result_order_type` is also nan. Whatever conclusion with have above (conclusion 2) works here too\n",
    "\n",
    "## 4. result_publication_date"
   ]
  },
  {
   "cell_type": "code",
   "execution_count": 45,
   "metadata": {},
   "outputs": [
    {
     "data": {
      "text/plain": [
       "[<matplotlib.lines.Line2D at 0x2652e83c580>]"
      ]
     },
     "execution_count": 45,
     "metadata": {},
     "output_type": "execute_result"
    },
    {
     "data": {
      "image/png": "[encoded data removed]",
      "text/plain": [
       "<Figure size 432x288 with 1 Axes>"
      ]
     },
     "metadata": {
      "needs_background": "light"
     },
     "output_type": "display_data"
    }
   ],
   "source": [
    "df = data_nrw_clean[['month_year', 'result_publication_date']]\n",
    "df = df[df['result_publication_date'].isnull()]\n",
    "df = df.fillna(1)\n",
    "df = pd.DataFrame(df.groupby('month_year')['result_publication_date'].count()).reset_index()\n",
    "\n",
    "plt.plot_date(df['month_year'], \n",
    "              df['result_publication_date'], c = 'red')"
   ]
  }
 ],
 "metadata": {
  "kernelspec": {
   "display_name": "Python 3",
   "language": "python",
   "name": "python3"
  },
  "language_info": {
   "codemirror_mode": {
    "name": "ipython",
    "version": 3
   },
   "file_extension": ".py",
   "mimetype": "text/x-python",
   "name": "python",
   "nbconvert_exporter": "python",
   "pygments_lexer": "ipython3",
   "version": "3.8.5"
  }
 },
 "nbformat": 4,
 "nbformat_minor": 4
}
